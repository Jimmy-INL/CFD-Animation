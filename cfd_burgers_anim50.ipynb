{
 "cells": [
  {
   "cell_type": "code",
   "execution_count": 1,
   "metadata": {},
   "outputs": [],
   "source": [
    "import numpy\n",
    "from matplotlib import pyplot\n",
    "from matplotlib import cm\n",
    "from matplotlib.colors import Normalize\n",
    "pyplot.rcParams.update({'figure.max_open_warning': 0})"
   ]
  },
  {
   "cell_type": "code",
   "execution_count": 2,
   "metadata": {},
   "outputs": [],
   "source": [
    "nx = 41\n",
    "ny = 41\n",
    "dx = 2 / float(nx - 1)\n",
    "dy = 2 / float(ny - 1)"
   ]
  },
  {
   "cell_type": "code",
   "execution_count": 3,
   "metadata": {},
   "outputs": [],
   "source": [
    "u = numpy.ones((ny, nx))\n",
    "v = numpy.ones((ny, nx))"
   ]
  },
  {
   "cell_type": "code",
   "execution_count": 4,
   "metadata": {},
   "outputs": [],
   "source": [
    "sigma = .001\n",
    "nu = 0.01\n",
    "dt = sigma * dx * dy / nu"
   ]
  },
  {
   "cell_type": "code",
   "execution_count": 5,
   "metadata": {},
   "outputs": [],
   "source": [
    "def equation_of_motion(u, v, dx, dy, dt, nu):\n",
    "    # generate the next state as a function of the old state\n",
    "    un = u.copy()\n",
    "    vn = v.copy()\n",
    "    u[1:-1, 1:-1] = (un[1:-1, 1:-1] - \n",
    "                     dt /dx * un[1:-1, 1:-1] * \n",
    "                     (un[1:-1, 1:-1] - un[1:-1, 0:-2]) - \n",
    "                     dt/dy *vn[1:-1, 1:-1] * \n",
    "                     (un[1:-1, 1:-1] - un[0:-2, 1:-1]) +\n",
    "                     nu * dt / dx**2 *\n",
    "                     (un[1:-1, 2:] -2 * un[1:-1, 1:-1] + un[1:-1, 0:-2]) +\n",
    "                     nu * dt /dy **2 *\n",
    "                     (un[2:, 1:-1] -2 * un[1:-1, 1:-1] + un[0:-2, 1:-1]))\n",
    "    \n",
    "    v[1:-1, 1:-1] = (vn[1:-1, 1:-1] - \n",
    "                     dt / dx * un[1:-1, 1:-1] *\n",
    "                     (vn[1:-1, 1:-1] - vn[1:-1, 0:-2]) -\n",
    "                     dt /dy * vn[1:-1, 1:-1] *\n",
    "                     (vn[1:-1, 1:-1] - vn[0:-2, 1:-1]) +\n",
    "                     nu * dt / dx **2 *\n",
    "                     (vn[1:-1, 2:] -2 * vn[1:-1, 1:-1] + vn[1:-1, 0:-2]) +\n",
    "                     nu * dt / dy**2 *\n",
    "                     (vn[2:, 1:-1] -2 * vn[1:-1, 1:-1] + vn[0:-2, 1:-1]))     \n",
    "    return (u,v)"
   ]
  },
  {
   "cell_type": "code",
   "execution_count": 6,
   "metadata": {},
   "outputs": [],
   "source": [
    "def boundary(u, v, nozzle_u, nozzle_v, nx, ny, t_step):\n",
    "    u[0, :] = 0\n",
    "    u[-1, :] = 0\n",
    "    u[:, 0] = 0\n",
    "    u[:, -1] = 0\n",
    "\n",
    "    v[0, :] = 0\n",
    "    v[-1, :] = 0\n",
    "    v[:, 0] = 0\n",
    "    v[:, -1] = 0\n",
    "\n",
    "     # special nozzle BC\n",
    "    u[ny//2-2:ny//2+2, 0] = nozzle_u[t_step]\n",
    "    v[ny//2-2:ny//2+2, 0] = nozzle_v[t_step]\n",
    "\n",
    "    return (u, v)"
   ]
  },
  {
   "cell_type": "code",
   "execution_count": 7,
   "metadata": {},
   "outputs": [],
   "source": [
    "def simulate(f, u, v, dx, dy, dt, nu, nozzle_u, nozzle_v, nx, ny, steps):\n",
    "    for i in range(steps):\n",
    "        (u, v) = equation_of_motion(u, v, dx, dy, dt, nu)\n",
    "        (u, v) = boundary(u, v, nozzle_u, nozzle_v, nx, ny, i)\n",
    "        if i%50:\n",
    "            ax = pyplot.figure()\n",
    "            norm = Normalize()\n",
    "            magnitude = numpy.sqrt(u[::2]**2 + v[::2]**2)\n",
    "            pyplot.quiver(u[::2], v[::2], norm(magnitude), scale=60,\n",
    "            cmap=pyplot.cm.jet)\n",
    "            ax.savefig('frame'+str(i).zfill(5)+'.png',dpi=300)\n",
    "            ax.clear()\n",
    "    \n",
    "    return (u, v)"
   ]
  },
  {
   "cell_type": "code",
   "execution_count": null,
   "metadata": {},
   "outputs": [],
   "source": [
    "nt = 2510 # the number of steps we’re simulating\n",
    "f = None\n",
    "###Assign initial conditions\n",
    "initial_u = numpy.zeros((nx, ny))\n",
    "initial_v = numpy.zeros((nx, ny))\n",
    "### Special BC for nozzle\n",
    "# located at (0, 1)\n",
    "nozzle_u = numpy.append(10*numpy.ones(1000), numpy.zeros(nt))\n",
    "nozzle_v = numpy.append(10*numpy.ones(1000), numpy.zeros(nt))\n",
    "(final_u, final_v) = simulate(f, initial_u, initial_v, dx, dy, dt, nu, nozzle_u, nozzle_v, nx, ny, nt)"
   ]
  }
 ],
 "metadata": {
  "kernelspec": {
   "display_name": "Python 2",
   "language": "python",
   "name": "python2"
  },
  "language_info": {
   "codemirror_mode": {
    "name": "ipython",
    "version": 2
   },
   "file_extension": ".py",
   "mimetype": "text/x-python",
   "name": "python",
   "nbconvert_exporter": "python",
   "pygments_lexer": "ipython2",
   "version": "2.7.14"
  }
 },
 "nbformat": 4,
 "nbformat_minor": 2
}
